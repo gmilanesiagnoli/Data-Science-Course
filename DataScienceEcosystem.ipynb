{
 "cells": [
  {
   "cell_type": "markdown",
   "id": "929af723-9743-422c-ae33-de2b59328235",
   "metadata": {},
   "source": [
    "# Data Science Tools and Ecosystem"
   ]
  },
  {
   "cell_type": "markdown",
   "id": "91b53199-f996-4de8-8011-9f6097b65d1e",
   "metadata": {},
   "source": [
    "In this notebook, Data Science Tools and Ecosystem are summarized."
   ]
  },
  {
   "cell_type": "markdown",
   "id": "1fe11904-35c0-4758-b182-5c45ff13cfe8",
   "metadata": {},
   "source": [
    "**Objectives**\n",
    "\n",
    "* List Popular Languages for Data Science\n",
    "* Common Libraries used in Data Science\n",
    "* List Popular Data Science Enviornments\n",
    "* Arithmetic expressions in Python\n",
    "\n",
    "## Author:  \n",
    "Giuseppe M"
   ]
  },
  {
   "cell_type": "markdown",
   "id": "5ce74af7-aa61-46c4-a777-dc97409e44a0",
   "metadata": {},
   "source": [
    "Some of the popular languages that Data Scientists use are:\n",
    "1. **R**\n",
    "2. **Python**\n",
    "3. **SQL**"
   ]
  },
  {
   "cell_type": "markdown",
   "id": "c43342d8-8897-4abc-9181-2f5c3d00d440",
   "metadata": {},
   "source": [
    "Libraries are collection of pre-written code that developers can use to perform common tasks without writing the code from scratch. Libraries are a toolbox to save time, simplify development, and promote code reuse.\n",
    "\n",
    "Some of the commonly used libraries used by Data Scientists include:\n",
    "\n",
    "1. **Pandas**: Built on top of NumPy, helps you work with structured data, like tables. Great for data organizing, cleaning, manipulation and analysis of data.\n",
    "\n",
    "2. **NumPy**: Works with arrays *(collection of numbers arranged in rows and columns)* and performs mathematical calculations.\n",
    "\n",
    "3. **SymPy**: Symbolic mathematics *(algebra, calculus, equation solving)*\n",
    "\n",
    "4. **Matplotlib**: Creates static, interactive, and animated visualization - any type of chat from scratch.\n",
    "\n",
    "5. **Seaborn**: Built on top of Matplotlib, simplifies creating attractive, informative visualizations. Better used for statistical plots & quick exploratory data analysis. It automatically handles styling & colors.\n",
    "\n",
    "6. **Scikit-learn**: Used for ML tasks, like classification, regression, clustering, and preprocessing. Is beginner friendly, covers mosts ML models *(decision trees, SVMs)*, and is great for small/medium datasets.\n",
    "\n",
    "7. **Keras**: High level API to vuild/train DL models. Focuses on simplicity *(great for beginners)*.\n",
    "\n",
    "8. **Tensorflow**: Powerhouse used for DL & ML. Is the industry standard for large-scale models, and supports distributed computing *(for bigdata)*.\n",
    "\n",
    "9. **PyTorch**: DL library known for its flexibility and dynamic computation graphs. Is preferred for research.\n",
    "\n",
    "\n"
   ]
  },
  {
   "cell_type": "markdown",
   "id": "6ef6ae82-f01b-4daa-8d28-7fb000d164b0",
   "metadata": {},
   "source": [
    "A data science environment typically consists of a combination of tools, frameworks, resources that support the end-to-end workflow of analyzing data, building models, and deriving insights, including programming languages (e.g Python, R), libraries (e.g. Pandas, NumPy), and platforms for computation (like Jupyter notebooks, cloud services, or local environments).\n",
    "\n",
    "| Data Science Tools |\n",
    "| :--- |\n",
    "| Jupyter Notebook/JupyterLab/Jupyter Lite|\n",
    "| Google Collab |\n",
    "| Anaconda |\n",
    "| RStudio |\n",
    "| VS Code (Visual Studio Code) |\n",
    "| MATLAB |"
   ]
  },
  {
   "cell_type": "markdown",
   "id": "69ad77c8-2bea-479c-aa32-d936d77fbf28",
   "metadata": {},
   "source": [
    "### Below are a few examples of evaluating arithmetic expressions in Python."
   ]
  },
  {
   "cell_type": "code",
   "execution_count": 5,
   "id": "a74839c7-33d4-47c2-a830-6adb9395954f",
   "metadata": {},
   "outputs": [
    {
     "name": "stdout",
     "output_type": "stream",
     "text": [
      "17\n"
     ]
    },
    {
     "data": {
      "text/plain": [
       "17"
      ]
     },
     "execution_count": 5,
     "metadata": {},
     "output_type": "execute_result"
    }
   ],
   "source": [
    "## This a simple arithmetic expression to mutiply then add integers.\n",
    "\n",
    "a = (3*4)+5  ## Solution 1\n",
    "print (a)\n",
    "\n",
    "(3*4)+5  ## Solution 2 - Alternative"
   ]
  },
  {
   "cell_type": "code",
   "execution_count": 6,
   "id": "b7f7439d-9fe6-4398-9ebc-c3fc223bcfd2",
   "metadata": {},
   "outputs": [
    {
     "name": "stdout",
     "output_type": "stream",
     "text": [
      "3.3333333333333335\n"
     ]
    },
    {
     "data": {
      "text/plain": [
       "3.3333333333333335"
      ]
     },
     "execution_count": 6,
     "metadata": {},
     "output_type": "execute_result"
    }
   ],
   "source": [
    "## This will convert 200 minutes to hours by diving by 60.\n",
    "\n",
    "minutes = 200   ## Solution 1\n",
    "minutes_per_hour = 60\n",
    "print(minutes/minutes_per_hour)\n",
    "\n",
    "200/60 ## Solution 2 - Alternative"
   ]
  }
 ],
 "metadata": {
  "kernelspec": {
   "display_name": "Python 3 (ipykernel)",
   "language": "python",
   "name": "python3"
  },
  "language_info": {
   "codemirror_mode": {
    "name": "ipython",
    "version": 3
   },
   "file_extension": ".py",
   "mimetype": "text/x-python",
   "name": "python",
   "nbconvert_exporter": "python",
   "pygments_lexer": "ipython3",
   "version": "3.12.8"
  }
 },
 "nbformat": 4,
 "nbformat_minor": 5
}
